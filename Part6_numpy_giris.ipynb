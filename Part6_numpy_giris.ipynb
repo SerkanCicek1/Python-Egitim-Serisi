{
 "cells": [
  {
   "cell_type": "code",
   "execution_count": 8,
   "metadata": {},
   "outputs": [
    {
     "name": "stdout",
     "output_type": "stream",
     "text": [
      "['A' 'B' 'C' 'D']\n"
     ]
    }
   ],
   "source": [
    "#NumPy, geleneksel Python'un listelediğinden \n",
    "# 50 kat daha hızlı bir dizi nesnesi sağlamayı amaçlamaktadır.\n",
    "import numpy as np\n",
    "\n",
    "dizi = np.array(['A', 'B', 'C', 'D'])\n",
    "\n",
    "print(dizi)"
   ]
  },
  {
   "cell_type": "code",
   "execution_count": 9,
   "metadata": {},
   "outputs": [
    {
     "name": "stdout",
     "output_type": "stream",
     "text": [
      "['A' 'B' 'C' 'D']\n",
      "<class 'numpy.ndarray'>\n"
     ]
    }
   ],
   "source": [
    "#NumPy'daki dizi nesnesine ndarray adı verilir\n",
    "import numpy as np\n",
    "\n",
    "dizi = np.array(['A', 'B', 'C', 'D'])\n",
    "\n",
    "print(dizi)\n",
    "\n",
    "print(type(dizi))"
   ]
  },
  {
   "cell_type": "code",
   "execution_count": 10,
   "metadata": {},
   "outputs": [
    {
     "name": "stdout",
     "output_type": "stream",
     "text": [
      "[34 35 57  3]\n"
     ]
    }
   ],
   "source": [
    "#list, tuple, set, dict gibi dizi benzeri bir nesneyi ndarray yap\n",
    "import numpy as np\n",
    "\n",
    "tuple_dizi = np.array((34, 35, 57, 3))\n",
    "\n",
    "print(tuple_dizi)"
   ]
  },
  {
   "cell_type": "code",
   "execution_count": 11,
   "metadata": {},
   "outputs": [
    {
     "name": "stdout",
     "output_type": "stream",
     "text": [
      "57\n"
     ]
    }
   ],
   "source": [
    "# 57 ile 0-D bir array oluşturalım\n",
    "import numpy as np\n",
    "\n",
    "dizi = np.array(57)\n",
    "\n",
    "print(dizi)"
   ]
  },
  {
   "cell_type": "code",
   "execution_count": 12,
   "metadata": {},
   "outputs": [
    {
     "name": "stdout",
     "output_type": "stream",
     "text": [
      "[ 2  4  6  8 10]\n"
     ]
    }
   ],
   "source": [
    "# 1-D bir array oluşturalım\n",
    "import numpy as np\n",
    "\n",
    "cift_dizi = np.array([2, 4, 6, 8, 10])\n",
    "\n",
    "print(cift_dizi)"
   ]
  },
  {
   "cell_type": "code",
   "execution_count": 13,
   "metadata": {},
   "outputs": [
    {
     "name": "stdout",
     "output_type": "stream",
     "text": [
      "[[ 2  4  6  8 10]\n",
      " [ 1  3  5  7  9]]\n"
     ]
    }
   ],
   "source": [
    "# 2-D bir array oluşturalım\n",
    "import numpy as np\n",
    "\n",
    "dizi = np.array([[2,4,6,8,10],[1,3,5,7,9]])\n",
    "# en dışa eklenen köşeli paranteze dikkat!\n",
    "\n",
    "print(dizi)"
   ]
  },
  {
   "cell_type": "code",
   "execution_count": 14,
   "metadata": {},
   "outputs": [
    {
     "name": "stdout",
     "output_type": "stream",
     "text": [
      "[[[ 2  4  6  8 10]\n",
      "  [ 1  3  5  7  9]]\n",
      "\n",
      " [[ 2  4  6  8 10]\n",
      "  [ 1  3  5  7  9]]]\n"
     ]
    }
   ],
   "source": [
    "# 3-D bir array oluşturalım\n",
    "import numpy as np\n",
    "\n",
    "dizi3D = np.array([[[2,4,6,8,10],[1,3,5,7,9]], [[2,4,6,8,10],[1,3,5,7,9]]])\n",
    "\n",
    "print(dizi3D)"
   ]
  },
  {
   "cell_type": "code",
   "execution_count": 17,
   "metadata": {},
   "outputs": [
    {
     "name": "stdout",
     "output_type": "stream",
     "text": [
      "0\n",
      "1\n",
      "2\n",
      "3\n"
     ]
    }
   ],
   "source": [
    "#ndim ile bir dizinin boyutunu öğrenme\n",
    "import numpy as np\n",
    "\n",
    "dizi0 = np.array(57)\n",
    "\n",
    "dizi1 = np.array([2, 4, 6, 8, 10])\n",
    "\n",
    "dizi2 = np.array([[1, 3, 5, 7, 9], [2, 4, 6, 8, 10]])\n",
    "\n",
    "dizi3 = np.array([[[1, 3, 5, 7, 9], [2, 4, 6, 8, 10]], \n",
    "                  [[1, 3, 5, 7, 9], [2, 4, 6, 8, 10]]])\n",
    "\n",
    "print(dizi0.ndim)\n",
    "print(dizi1.ndim)\n",
    "print(dizi2.ndim)\n",
    "print(dizi3.ndim)"
   ]
  },
  {
   "cell_type": "code",
   "execution_count": 19,
   "metadata": {},
   "outputs": [
    {
     "name": "stdout",
     "output_type": "stream",
     "text": [
      "[[[[[[1 3 5 7 9]]]]]]\n",
      "Boyut sayısı: 6\n"
     ]
    }
   ],
   "source": [
    "#ndmin değişkeni ile çok boyutlu dizi oluşturmak\n",
    "import numpy as np\n",
    "\n",
    "dizi = np.array([1, 3, 5, 7, 9], ndmin=6)\n",
    "\n",
    "print(dizi)\n",
    "print('Boyut sayısı:', dizi.ndim)"
   ]
  },
  {
   "cell_type": "code",
   "execution_count": 20,
   "metadata": {},
   "outputs": [
    {
     "name": "stdout",
     "output_type": "stream",
     "text": [
      "1\n",
      "3\n",
      "9\n",
      "15\n"
     ]
    }
   ],
   "source": [
    "#dizi elelmanlarına erişim\n",
    "import numpy as np\n",
    "\n",
    "dizi = np.array([1, 3, 5, 7, 9])\n",
    "\n",
    "print(dizi[0]) #dizinin ilk elemanı\n",
    "print(dizi[1]) #dizinin 2. elemanı\n",
    "print(dizi[4]) #dizinin 5. elemanı\n",
    "print(dizi[1] * dizi[2]) #dizinin 2. ve 3. elemanının çarpımı"
   ]
  },
  {
   "cell_type": "code",
   "execution_count": 21,
   "metadata": {},
   "outputs": [
    {
     "name": "stdout",
     "output_type": "stream",
     "text": [
      "1\n",
      "10\n",
      "5\n",
      "40\n"
     ]
    }
   ],
   "source": [
    "#2-D dizi elemanlarına erişim\n",
    "import numpy as np\n",
    "\n",
    "dizi = np.array([[1, 3, 5, 7, 9],[2, 4, 6, 8, 10]])\n",
    "\n",
    "print(dizi[0,0]) #1. dizinin ilk elemanı\n",
    "print(dizi[1,4]) #2. dizinin 5. elemanı\n",
    "print(dizi[0,2]) #1. dizinin 3. elemanı\n",
    "print(dizi[1,3] * dizi[0,2]) #2. dizinin 4. ve 1. dizinin 3. elemanının çarpımı"
   ]
  },
  {
   "cell_type": "code",
   "execution_count": 24,
   "metadata": {},
   "outputs": [
    {
     "name": "stdout",
     "output_type": "stream",
     "text": [
      "6\n"
     ]
    }
   ],
   "source": [
    "#3-D dizi elemanlarına erişim\n",
    "import numpy as np\n",
    "\n",
    "dizi = np.array([[[1, 3, 5, 7, 9], [2, 4, 6, 8, 10]], \n",
    "                 [[11, 13, 15, 17, 19], [12, 14, 16, 18,20]]])\n",
    "\n",
    "print(dizi[0, 1, 2])"
   ]
  },
  {
   "cell_type": "code",
   "execution_count": 25,
   "metadata": {},
   "outputs": [
    {
     "name": "stdout",
     "output_type": "stream",
     "text": [
      "7\n",
      "8\n",
      "12\n"
     ]
    }
   ],
   "source": [
    "# Verilen dizideki 7, 8 ve 12 sayılarına erişmek için - şimdi siz yapın\n",
    "import numpy as np\n",
    "\n",
    "dizi = np.array([[[1, 3, 5, 7, 9], [2, 4, 6, 8, 10]], \n",
    "                 [[11, 13, 15, 17, 19], [12, 14, 16, 18,20]]])\n",
    "\n",
    "print(dizi[0, 0, 3])\n",
    "print(dizi[0, 1, 3])\n",
    "print(dizi[1, 1, 0])"
   ]
  },
  {
   "cell_type": "code",
   "execution_count": 26,
   "metadata": {},
   "outputs": [
    {
     "name": "stdout",
     "output_type": "stream",
     "text": [
      "1\n",
      "10\n",
      "5\n"
     ]
    }
   ],
   "source": [
    "# negatif indeksleme\n",
    "import numpy as np\n",
    "\n",
    "dizi = np.array([[1, 3, 5, 7, 9],[2, 4, 6, 8, 10]])\n",
    "\n",
    "print(dizi[0,-5]) #1. dizinin ilk elemanı\n",
    "print(dizi[1,-1]) #2. dizinin 5. elemanı\n",
    "print(dizi[0,-3]) #1. dizinin 3. elemanı"
   ]
  },
  {
   "cell_type": "code",
   "execution_count": 27,
   "metadata": {},
   "outputs": [
    {
     "name": "stdout",
     "output_type": "stream",
     "text": [
      "7\n",
      "8\n"
     ]
    }
   ],
   "source": [
    "# negatif indeksleme- şimdi siz yapın\n",
    "import numpy as np\n",
    "\n",
    "dizi = np.array([[1, 3, 5, 7, 9],[2, 4, 6, 8, 10]])\n",
    "\n",
    "print(dizi[0,-2]) #7\n",
    "print(dizi[1,-2]) #8"
   ]
  },
  {
   "cell_type": "code",
   "execution_count": 28,
   "metadata": {},
   "outputs": [
    {
     "name": "stdout",
     "output_type": "stream",
     "text": [
      "[1 2 3 4 5]\n"
     ]
    }
   ],
   "source": [
    "# slicing\n",
    "import numpy as np\n",
    "\n",
    "dizi = np.array([1, 2, 3, 4, 5, 6, 7, 8, 9, 10])\n",
    "\n",
    "print(dizi[0:5]) # dizideki elemanların ilk yarısını alalım "
   ]
  },
  {
   "cell_type": "code",
   "execution_count": 30,
   "metadata": {},
   "outputs": [
    {
     "name": "stdout",
     "output_type": "stream",
     "text": [
      "[ 6  7  8  9 10]\n"
     ]
    }
   ],
   "source": [
    "# slicing - şimdi siz yapın\n",
    "import numpy as np\n",
    "\n",
    "dizi = np.array([1, 2, 3, 4, 5, 6, 7, 8, 9, 10])\n",
    "\n",
    "print(dizi[5:10]) # dizideki elemanların diğer yarısını alalım "
   ]
  },
  {
   "cell_type": "code",
   "execution_count": 32,
   "metadata": {},
   "outputs": [
    {
     "name": "stdout",
     "output_type": "stream",
     "text": [
      "[ 6  7  8  9 10]\n",
      "[1 2 3 4 5]\n",
      "[1 3 5 7 9]\n",
      "[ 2  4  6  8 10]\n",
      "[ 9 10]\n",
      "[1 2 3 4 5 6 7 8]\n",
      "[8]\n",
      "[]\n",
      "[2 4 6]\n"
     ]
    }
   ],
   "source": [
    " # 1-D diziler ile slicing\n",
    "import numpy as np\n",
    "\n",
    "dizi = np.array([1, 2, 3, 4, 5, 6, 7, 8, 9, 10])\n",
    "\n",
    "print(dizi[5:]) #bitiş indeksi belirtilmezse\n",
    "print(dizi[:5]) #başlangıç indeksi belirtilmezse\n",
    "print(dizi[::2]) #ne başlangıç var ne bitiş\n",
    "print(dizi[1::2]) #çift sayıları istiyorum\n",
    "print(dizi[-2:]) #negatif indeksleme, bitiş yok\n",
    "print(dizi[:-2]) #negatif indeksleme, başlangıç yok\n",
    "print(dizi[-3:-2]) #negatif indeksleme\n",
    "print(dizi[-3:2])\n",
    "print(dizi[1:7:2]) #basamak belirtilirse"
   ]
  },
  {
   "cell_type": "code",
   "execution_count": 33,
   "metadata": {},
   "outputs": [
    {
     "name": "stdout",
     "output_type": "stream",
     "text": [
      "[4 6 8]\n",
      "[5 6]\n",
      "[[3 5 7]\n",
      " [4 6 8]]\n"
     ]
    }
   ],
   "source": [
    "# 2-D diziler ile slicing\n",
    "import numpy as np\n",
    "\n",
    "dizi = np.array([[1, 3, 5, 7, 9], [2, 4, 6, 8, 10]])\n",
    "\n",
    "print(dizi[1, 1:4]) # unutmayın! dizinin ikinci elemanının indeksi 1\n",
    "print(dizi[0:2, 2]) # her iki elemanın üçüncü elemanlarını al\n",
    "print(dizi[0:2, 1:4]) # her iki elemanın 2.,3. ve 4. elemanlarını al, sonuç 2-D dizi "
   ]
  },
  {
   "cell_type": "code",
   "execution_count": null,
   "metadata": {},
   "outputs": [],
   "source": []
  }
 ],
 "metadata": {
  "kernelspec": {
   "display_name": "Python 3",
   "language": "python",
   "name": "python3"
  },
  "language_info": {
   "codemirror_mode": {
    "name": "ipython",
    "version": 3
   },
   "file_extension": ".py",
   "mimetype": "text/x-python",
   "name": "python",
   "nbconvert_exporter": "python",
   "pygments_lexer": "ipython3",
   "version": "3.7.6"
  }
 },
 "nbformat": 4,
 "nbformat_minor": 4
}
