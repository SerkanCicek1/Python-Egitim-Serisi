{
 "cells": [
  {
   "cell_type": "code",
   "execution_count": 27,
   "metadata": {},
   "outputs": [
    {
     "name": "stdout",
     "output_type": "stream",
     "text": [
      "155.0\n",
      "[   10   112 40000]\n"
     ]
    }
   ],
   "source": [
    "#NumPy veri tipleri\n",
    "import numpy as np\n",
    "x = np.float32(155)\n",
    "y = np.int_([10,112,40000])\n",
    "\n",
    "print(x)\n",
    "print(y)"
   ]
  },
  {
   "cell_type": "code",
   "execution_count": 36,
   "metadata": {},
   "outputs": [
    {
     "name": "stdout",
     "output_type": "stream",
     "text": [
      "int32\n",
      "int8\n"
     ]
    }
   ],
   "source": [
    "#veri tipleri arasında dönüşüm\n",
    "import numpy as np\n",
    "x=np.array([1,2,3])\n",
    "\n",
    "print(x.dtype) #x in veri tipi nedir\n",
    "\n",
    "y=np.int8(x) #x in veri tipini değiştirelim\n",
    "\n",
    "print(y.dtype) #yeni değer y nin veri tipi"
   ]
  },
  {
   "cell_type": "code",
   "execution_count": 12,
   "metadata": {},
   "outputs": [
    {
     "name": "stdout",
     "output_type": "stream",
     "text": [
      "[2.4 3.  1.6 0. ]\n",
      "float64\n",
      "[2 3 1 0]\n",
      "int32\n",
      "complex128\n",
      "[[1.+0.j 2.+0.j]\n",
      " [0.+0.j 0.+0.j]\n",
      " [1.+1.j 3.+0.j]]\n"
     ]
    }
   ],
   "source": [
    "import numpy as np\n",
    "\n",
    "dizi1 = np.array([2.4, 3, 1.6, 0]) #list dizi nesnesini numpy dizisine dönüştürelim\n",
    "print(dizi1) #çıktı-satır 1. numpy dizisini yazdıralım\n",
    "print(dizi1.dtype) #çıktı-satır 2. numpy dizisinin veri tipi nedir?\n",
    "\n",
    "#bir önceki dizinin veri tipini integer yapalım\n",
    "#aşağıdaki komut satırında i yerine int de yazılabilir\n",
    "dizi1_new = dizi1.astype('i') \n",
    "print(dizi1_new) #çıktı satır 3. yeni diziyi yazdıralım\n",
    "print(dizi1_new.dtype) #çıktı satır 4. yeni dizinin veri tipini sorgulayalım.\n",
    "\n",
    "#list, tuple ve çeşitli veri tiplerinden oluşan bir dizi tanımlayalım\n",
    "dizi3 = np.array([[1,2.0],[0,0],(1+1j,3.)]) \n",
    "print(dizi3.dtype) #çıktı satır 5. bu dizinin veri tipi nedir?\n",
    "print(dizi3) #çıktı satır 6. bu diziyi yazdıralım\n"
   ]
  },
  {
   "cell_type": "code",
   "execution_count": 17,
   "metadata": {},
   "outputs": [
    {
     "name": "stdout",
     "output_type": "stream",
     "text": [
      "[b'12' b'200' b'3500' b'40000' b'numpy']\n",
      "|S5\n"
     ]
    }
   ],
   "source": [
    "import numpy as np\n",
    "\n",
    "#veri tipi string olan bir numpy dizisi oluşturalım\n",
    "dizi0 = np.array([12, 200, 3500, 40000, 5], dtype='S')\n",
    "\n",
    "print(dizi0)\n",
    "print(dizi0.dtype)"
   ]
  },
  {
   "cell_type": "code",
   "execution_count": 16,
   "metadata": {},
   "outputs": [
    {
     "name": "stdout",
     "output_type": "stream",
     "text": [
      "[   12   200  3500 40000     5]\n",
      "int32\n"
     ]
    }
   ],
   "source": [
    "import numpy as np\n",
    "\n",
    "#veri tipi 4 byte integer olan bir numpy dizisi oluşturalım\n",
    "dizi0 = np.array([12, 200, 3500, 40000, 5], dtype='i4')\n",
    "\n",
    "print(dizi0)\n",
    "print(dizi0.dtype)"
   ]
  },
  {
   "cell_type": "code",
   "execution_count": 19,
   "metadata": {},
   "outputs": [
    {
     "name": "stdout",
     "output_type": "stream",
     "text": [
      "[b'12' b'200' b'35' b'4' b'numpy']\n",
      "|S5\n"
     ]
    }
   ],
   "source": [
    "\n",
    "import numpy as np\n",
    "\n",
    "#dizi elemanları hem string hem sayısal değerler alıyorsa\n",
    "#String veri tipine dönüştürülebilir \n",
    "#ancak sayısal veri tiplerine dönüştürülemez.\n",
    "dizi0 = np.array([12, 200, 35, 4, 'numpy'], dtype='S')\n",
    "\n",
    "print(dizi0) #çıktı satır 1- dizi elemanlarını yazdıralım\n",
    "print(dizi0.dtype) #çıktı satır 2- dizi elemanlarının veri tipi nedir?\n",
    "                  "
   ]
  },
  {
   "cell_type": "code",
   "execution_count": 21,
   "metadata": {},
   "outputs": [
    {
     "ename": "ValueError",
     "evalue": "invalid literal for int() with base 10: 'numpy'",
     "output_type": "error",
     "traceback": [
      "\u001b[1;31m---------------------------------------------------------------------------\u001b[0m",
      "\u001b[1;31mValueError\u001b[0m                                Traceback (most recent call last)",
      "\u001b[1;32m<ipython-input-21-35376652d31d>\u001b[0m in \u001b[0;36m<module>\u001b[1;34m\u001b[0m\n\u001b[0;32m      1\u001b[0m \u001b[1;32mimport\u001b[0m \u001b[0mnumpy\u001b[0m \u001b[1;32mas\u001b[0m \u001b[0mnp\u001b[0m\u001b[1;33m\u001b[0m\u001b[1;33m\u001b[0m\u001b[0m\n\u001b[0;32m      2\u001b[0m \u001b[1;31m#'numpy' gibi bir string değer tamsayıya dönüştürülemez(hata oluşur)\u001b[0m\u001b[1;33m\u001b[0m\u001b[1;33m\u001b[0m\u001b[1;33m\u001b[0m\u001b[0m\n\u001b[1;32m----> 3\u001b[1;33m \u001b[0mdizi1\u001b[0m \u001b[1;33m=\u001b[0m \u001b[0mnp\u001b[0m\u001b[1;33m.\u001b[0m\u001b[0marray\u001b[0m\u001b[1;33m(\u001b[0m\u001b[1;33m[\u001b[0m\u001b[1;36m12\u001b[0m\u001b[1;33m,\u001b[0m \u001b[1;36m200\u001b[0m\u001b[1;33m,\u001b[0m \u001b[1;36m35\u001b[0m\u001b[1;33m,\u001b[0m \u001b[1;36m4\u001b[0m\u001b[1;33m,\u001b[0m \u001b[1;34m'numpy'\u001b[0m\u001b[1;33m]\u001b[0m\u001b[1;33m,\u001b[0m \u001b[0mdtype\u001b[0m\u001b[1;33m=\u001b[0m\u001b[1;34m'int'\u001b[0m\u001b[1;33m)\u001b[0m\u001b[1;33m\u001b[0m\u001b[1;33m\u001b[0m\u001b[0m\n\u001b[0m\u001b[0;32m      4\u001b[0m \u001b[1;33m\u001b[0m\u001b[0m\n\u001b[0;32m      5\u001b[0m \u001b[0mprint\u001b[0m\u001b[1;33m(\u001b[0m\u001b[0mdizi1\u001b[0m\u001b[1;33m.\u001b[0m\u001b[0mdtype\u001b[0m\u001b[1;33m)\u001b[0m \u001b[1;31m# dizi elemanlarının veri tipi eşleşmiyor: ValueError\u001b[0m\u001b[1;33m\u001b[0m\u001b[1;33m\u001b[0m\u001b[0m\n",
      "\u001b[1;31mValueError\u001b[0m: invalid literal for int() with base 10: 'numpy'"
     ]
    }
   ],
   "source": [
    "import numpy as np\n",
    "#'numpy' gibi bir string değer tamsayıya dönüştürülemez(hata oluşur)\n",
    "dizi1 = np.array([12, 200, 35, 4, 'numpy'], dtype='int')\n",
    "\n",
    "print(dizi1.dtype) # dizi elemanlarının veri tipi eşleşmiyor: ValueError"
   ]
  },
  {
   "cell_type": "code",
   "execution_count": 22,
   "metadata": {},
   "outputs": [
    {
     "name": "stdout",
     "output_type": "stream",
     "text": [
      "[[0. 0. 0.]\n",
      " [0. 0. 0.]]\n",
      "float64\n"
     ]
    }
   ],
   "source": [
    "#NumPy'da sıfırdan array oluşturmak\n",
    "import numpy as np\n",
    "\n",
    "#zeros belirtilen şekle sahip 0 değerlerle dolu bir dizi oluşturur\n",
    "dizi= np.zeros((2, 3))\n",
    "\n",
    "print(dizi)\n",
    "print(dizi.dtype)"
   ]
  },
  {
   "cell_type": "code",
   "execution_count": null,
   "metadata": {},
   "outputs": [],
   "source": []
  },
  {
   "cell_type": "code",
   "execution_count": 23,
   "metadata": {},
   "outputs": [
    {
     "name": "stdout",
     "output_type": "stream",
     "text": [
      "[[1. 1. 1.]\n",
      " [1. 1. 1.]]\n",
      "float64\n"
     ]
    }
   ],
   "source": [
    "import numpy as np\n",
    "\n",
    "#ones belirtilen şekle sahip 1 değerleriyle dolu bir dizi oluşturur\n",
    "dizi= np.ones((2, 3))\n",
    "\n",
    "print(dizi)\n",
    "print(dizi.dtype)"
   ]
  },
  {
   "cell_type": "code",
   "execution_count": 24,
   "metadata": {},
   "outputs": [
    {
     "name": "stdout",
     "output_type": "stream",
     "text": [
      "[0 1 2 3 4 5 6 7 8 9]\n",
      "[ 3.  4.  5.  6.  7.  8.  9. 10. 11.]\n",
      "[3.  3.7 4.4]\n"
     ]
    }
   ],
   "source": [
    "import numpy as np\n",
    "#arange düzenli olarak artan değerlere sahip diziler oluşturur. \n",
    "dizi1=np.arange(10) #başlangıç belirtilmezse 0'dan başlar\n",
    "\n",
    "dizi2=np.arange(3, 12, dtype=float) #son değeri almadığına dikkat!\n",
    "\n",
    "dizi3=np.arange(3, 5, 0.7) #3'ten 5'e kadar 0.7 artarak \n",
    "\n",
    "print(dizi1) #çıktı-satır 1\n",
    "print(dizi2) #çıktı-satır 2\n",
    "print(dizi3) #çıktı-satır 3"
   ]
  },
  {
   "cell_type": "code",
   "execution_count": 46,
   "metadata": {},
   "outputs": [
    {
     "name": "stdout",
     "output_type": "stream",
     "text": [
      "[3.  3.5 4.  4.5 5. ]\n"
     ]
    }
   ],
   "source": [
    "import numpy as np\n",
    "\n",
    "z = np.linspace(3., 5., 5) \n",
    "# artım değerinin 5 girildiğine, çıktıda 0.5 olarak \n",
    "# algılandığına dikkat edin!\n",
    "print(z)"
   ]
  },
  {
   "cell_type": "code",
   "execution_count": 37,
   "metadata": {},
   "outputs": [
    {
     "name": "stdout",
     "output_type": "stream",
     "text": [
      "10000000000000000\n",
      "1874919424\n"
     ]
    }
   ],
   "source": [
    "import numpy as np\n",
    "\n",
    "x = np.power(100, 8, dtype=np.int64)\n",
    "\n",
    "y = np.power(100, 8, dtype=np.int32) #overflow error\n",
    "\n",
    "print(x)\n",
    "print(y)"
   ]
  },
  {
   "cell_type": "code",
   "execution_count": 38,
   "metadata": {},
   "outputs": [
    {
     "name": "stdout",
     "output_type": "stream",
     "text": [
      "Machine parameters for int32\n",
      "---------------------------------------------------------------\n",
      "min = -2147483648\n",
      "max = 2147483647\n",
      "---------------------------------------------------------------\n",
      "\n",
      "Machine parameters for int32\n",
      "---------------------------------------------------------------\n",
      "min = -2147483648\n",
      "max = 2147483647\n",
      "---------------------------------------------------------------\n",
      "\n",
      "Machine parameters for int64\n",
      "---------------------------------------------------------------\n",
      "min = -9223372036854775808\n",
      "max = 9223372036854775807\n",
      "---------------------------------------------------------------\n",
      "\n"
     ]
    }
   ],
   "source": [
    "import numpy as np\n",
    "print(np.iinfo(int)) #kullandığım sistemdeki varsayılan int değerleri nedir?\n",
    "\n",
    "print(np.iinfo(np.int32)) #32-bit integer sınırları nelerdir?\n",
    "print(np.iinfo(np.int64)) #64-bit integer sınırları nelerdir?"
   ]
  },
  {
   "cell_type": "code",
   "execution_count": 40,
   "metadata": {},
   "outputs": [
    {
     "name": "stdout",
     "output_type": "stream",
     "text": [
      "0\n",
      "1e+200\n"
     ]
    }
   ],
   "source": [
    "import numpy as np\n",
    "\n",
    "print(np.power(100, 100, dtype=np.int64)) #çıktı için 64 bit integer yeterli değil-overflow \n",
    "print(np.power(100, 100, dtype=np.float64)) #float' a çevirelim \n"
   ]
  },
  {
   "cell_type": "code",
   "execution_count": null,
   "metadata": {},
   "outputs": [],
   "source": []
  }
 ],
 "metadata": {
  "kernelspec": {
   "display_name": "Python 3",
   "language": "python",
   "name": "python3"
  },
  "language_info": {
   "codemirror_mode": {
    "name": "ipython",
    "version": 3
   },
   "file_extension": ".py",
   "mimetype": "text/x-python",
   "name": "python",
   "nbconvert_exporter": "python",
   "pygments_lexer": "ipython3",
   "version": "3.7.6"
  }
 },
 "nbformat": 4,
 "nbformat_minor": 4
}
