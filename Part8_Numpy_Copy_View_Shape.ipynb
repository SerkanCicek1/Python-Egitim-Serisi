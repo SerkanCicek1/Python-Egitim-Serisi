{
 "cells": [
  {
   "cell_type": "code",
   "execution_count": 3,
   "metadata": {},
   "outputs": [
    {
     "name": "stdout",
     "output_type": "stream",
     "text": [
      "[57  3  5  7  9]\n",
      "[1 3 5 7 9]\n"
     ]
    }
   ],
   "source": [
    "import numpy as np\n",
    "\n",
    "dizi1 = np.array([1, 3, 5, 7, 9]) # dizi1 --orijinal dizi\n",
    "dizi2 = dizi1.copy() # dizi2 --orijinal dizinin kopyası\n",
    "dizi1[0] = 57        # orijinal diziyi değiştirelim\n",
    "\n",
    "print(dizi1)\n",
    "print(dizi2) # dizi2 de değişti mi?"
   ]
  },
  {
   "cell_type": "code",
   "execution_count": 4,
   "metadata": {},
   "outputs": [
    {
     "name": "stdout",
     "output_type": "stream",
     "text": [
      "[57  3  5  7  9]\n",
      "[57  3  5  7  9]\n"
     ]
    }
   ],
   "source": [
    "import numpy as np\n",
    "\n",
    "dizi1 = np.array([1, 3, 5, 7, 9]) # dizi1 --orijinal dizi\n",
    "dizi2 = dizi1.view() # dizi2 -- orijinal dizinin görünümü\n",
    "dizi1[0] = 57        # orijinal diziyi değiştirelim\n",
    "\n",
    "print(dizi1)\n",
    "print(dizi2) # dizi2 de değişti mi?"
   ]
  },
  {
   "cell_type": "code",
   "execution_count": 5,
   "metadata": {},
   "outputs": [
    {
     "name": "stdout",
     "output_type": "stream",
     "text": [
      "[57  3  5  7  9]\n",
      "[57  3  5  7  9]\n"
     ]
    }
   ],
   "source": [
    "import numpy as np\n",
    "\n",
    "dizi1 = np.array([1, 3, 5, 7, 9]) # dizi1 --orijinal dizi\n",
    "dizi2 = dizi1.view()  # dizi2 -- orijinal dizinin görünümü\n",
    "dizi2[0] = 57         # görünüm diziyi değiştirelim\n",
    "\n",
    "print(dizi1) # dizi1 de değişti mi?\n",
    "print(dizi2) "
   ]
  },
  {
   "cell_type": "code",
   "execution_count": 6,
   "metadata": {},
   "outputs": [
    {
     "name": "stdout",
     "output_type": "stream",
     "text": [
      "None\n",
      "[1 3 5 7 9]\n"
     ]
    }
   ],
   "source": [
    "# base ile veri kontrolü\n",
    "import numpy as np\n",
    "\n",
    "dizi = np.array([1, 3, 5, 7, 9])\n",
    "\n",
    "adana = dizi.copy()\n",
    "bursa = dizi.view()\n",
    "\n",
    "print(adana.base)\n",
    "print(bursa.base)"
   ]
  },
  {
   "cell_type": "code",
   "execution_count": 7,
   "metadata": {},
   "outputs": [
    {
     "name": "stdout",
     "output_type": "stream",
     "text": [
      "(2, 5)\n"
     ]
    }
   ],
   "source": [
    "# bir dizinin shape'ini almak\n",
    "import numpy as np\n",
    "\n",
    "dizi = np.array([[1, 3, 5, 7, 9], [2, 4, 6, 8, 10]])\n",
    "\n",
    "print(dizi.shape) # 2D bir dizinin shape'ini yazdıralım"
   ]
  },
  {
   "cell_type": "code",
   "execution_count": 12,
   "metadata": {},
   "outputs": [
    {
     "name": "stdout",
     "output_type": "stream",
     "text": [
      "[[[1 2 3 4]]]\n",
      "(1, 1, 4)\n"
     ]
    }
   ],
   "source": [
    "import numpy as np\n",
    "dizi = np.array([1, 2, 3, 4], ndmin=3)\n",
    "\n",
    "print(dizi)\n",
    "print(dizi.shape)"
   ]
  },
  {
   "cell_type": "code",
   "execution_count": 13,
   "metadata": {},
   "outputs": [
    {
     "name": "stdout",
     "output_type": "stream",
     "text": [
      "[[ 1  2  3]\n",
      " [ 4  5  6]\n",
      " [ 7  8  9]\n",
      " [10 11 12]]\n"
     ]
    }
   ],
   "source": [
    "# reshape 1-D den 2-D ye\n",
    "import numpy as np\n",
    "\n",
    "aylar = np.array([1, 2, 3, 4, 5, 6, 7, 8, 9, 10, 11, 12])\n",
    "\n",
    "uc_aylar = aylar.reshape(4, 3)\n",
    "\n",
    "print(uc_aylar)"
   ]
  },
  {
   "cell_type": "code",
   "execution_count": 15,
   "metadata": {},
   "outputs": [
    {
     "name": "stdout",
     "output_type": "stream",
     "text": [
      "[[[ 1  2]\n",
      "  [ 3  4]\n",
      "  [ 5  6]]\n",
      "\n",
      " [[ 7  8]\n",
      "  [ 9 10]\n",
      "  [11 12]]]\n"
     ]
    }
   ],
   "source": [
    "# reshape 1-D den 3-D ye\n",
    "import numpy as np\n",
    "\n",
    "dizi = np.array([1, 2, 3, 4, 5, 6, 7, 8, 9, 10, 11, 12])\n",
    "\n",
    "yeni_dizi = dizi.reshape(2, 3, 2)\n",
    "\n",
    "print(yeni_dizi)"
   ]
  },
  {
   "cell_type": "code",
   "execution_count": 16,
   "metadata": {},
   "outputs": [
    {
     "ename": "ValueError",
     "evalue": "cannot reshape array of size 8 into shape (3,3)",
     "output_type": "error",
     "traceback": [
      "\u001b[1;31m---------------------------------------------------------------------------\u001b[0m",
      "\u001b[1;31mValueError\u001b[0m                                Traceback (most recent call last)",
      "\u001b[1;32m<ipython-input-16-0d53eae793b2>\u001b[0m in \u001b[0;36m<module>\u001b[1;34m\u001b[0m\n\u001b[0;32m      3\u001b[0m \u001b[0mdizi\u001b[0m \u001b[1;33m=\u001b[0m \u001b[0mnp\u001b[0m\u001b[1;33m.\u001b[0m\u001b[0marray\u001b[0m\u001b[1;33m(\u001b[0m\u001b[1;33m[\u001b[0m\u001b[1;36m1\u001b[0m\u001b[1;33m,\u001b[0m \u001b[1;36m2\u001b[0m\u001b[1;33m,\u001b[0m \u001b[1;36m3\u001b[0m\u001b[1;33m,\u001b[0m \u001b[1;36m4\u001b[0m\u001b[1;33m,\u001b[0m \u001b[1;36m5\u001b[0m\u001b[1;33m,\u001b[0m \u001b[1;36m6\u001b[0m\u001b[1;33m,\u001b[0m \u001b[1;36m7\u001b[0m\u001b[1;33m,\u001b[0m \u001b[1;36m8\u001b[0m\u001b[1;33m]\u001b[0m\u001b[1;33m)\u001b[0m\u001b[1;33m\u001b[0m\u001b[1;33m\u001b[0m\u001b[0m\n\u001b[0;32m      4\u001b[0m \u001b[1;33m\u001b[0m\u001b[0m\n\u001b[1;32m----> 5\u001b[1;33m \u001b[0myeni_dizi\u001b[0m \u001b[1;33m=\u001b[0m \u001b[0mdizi\u001b[0m\u001b[1;33m.\u001b[0m\u001b[0mreshape\u001b[0m\u001b[1;33m(\u001b[0m\u001b[1;36m3\u001b[0m\u001b[1;33m,\u001b[0m \u001b[1;36m3\u001b[0m\u001b[1;33m)\u001b[0m\u001b[1;33m\u001b[0m\u001b[1;33m\u001b[0m\u001b[0m\n\u001b[0m\u001b[0;32m      6\u001b[0m \u001b[1;33m\u001b[0m\u001b[0m\n\u001b[0;32m      7\u001b[0m \u001b[0mprint\u001b[0m\u001b[1;33m(\u001b[0m\u001b[0myeni_dizi\u001b[0m\u001b[1;33m)\u001b[0m\u001b[1;33m\u001b[0m\u001b[1;33m\u001b[0m\u001b[0m\n",
      "\u001b[1;31mValueError\u001b[0m: cannot reshape array of size 8 into shape (3,3)"
     ]
    }
   ],
   "source": [
    "# reshape için gerekli elemanlar her iki şekilde de eşit olmalıdır\n",
    "import numpy as np\n",
    "\n",
    "dizi = np.array([1, 2, 3, 4, 5, 6, 7, 8])\n",
    "\n",
    "yeni_dizi = dizi.reshape(3, 3)\n",
    "\n",
    "print(yeni_dizi)"
   ]
  },
  {
   "cell_type": "code",
   "execution_count": 17,
   "metadata": {},
   "outputs": [
    {
     "name": "stdout",
     "output_type": "stream",
     "text": [
      "[1 2 3 4 5 6 7 8]\n"
     ]
    }
   ],
   "source": [
    "# Reshape ile oluşturulan yeni dizi copy dizi mi olur view mi olur?\n",
    "import numpy as np\n",
    "\n",
    "dizi = np.array([1, 2, 3, 4, 5, 6, 7, 8])\n",
    "\n",
    "print(dizi.reshape(2, 4).base)"
   ]
  },
  {
   "cell_type": "code",
   "execution_count": 18,
   "metadata": {},
   "outputs": [
    {
     "name": "stdout",
     "output_type": "stream",
     "text": [
      "[[[1 2]\n",
      "  [3 4]]\n",
      "\n",
      " [[5 6]\n",
      "  [7 8]]]\n"
     ]
    }
   ],
   "source": [
    "# bilinmeyen boyut\n",
    "# 8 elemanlı 1D dizisini 2x2 elemanlı 3D diziye dönüştürelim\n",
    "\n",
    "import numpy as np\n",
    "\n",
    "dizi= np.array([1, 2, 3, 4, 5, 6, 7, 8])\n",
    "\n",
    "yeni_dizi = dizi.reshape(2, 2, -1) # -1 bilinmeyen boyut yerine\n",
    "\n",
    "print(yeni_dizi)"
   ]
  },
  {
   "cell_type": "code",
   "execution_count": 19,
   "metadata": {},
   "outputs": [
    {
     "name": "stdout",
     "output_type": "stream",
     "text": [
      "[1 3 5 7 2 4 6 8]\n"
     ]
    }
   ],
   "source": [
    "# flattening\n",
    "# Çok boyutlu diziyi tek boyuta indirme\n",
    "import numpy as np\n",
    "\n",
    "dizi = np.array([[1, 3, 5, 7], [2, 4, 6, 8]])\n",
    "\n",
    "yeni_dizi = dizi.reshape(-1)\n",
    "\n",
    "print(yeni_dizi)"
   ]
  },
  {
   "cell_type": "code",
   "execution_count": null,
   "metadata": {},
   "outputs": [],
   "source": []
  }
 ],
 "metadata": {
  "kernelspec": {
   "display_name": "Python 3",
   "language": "python",
   "name": "python3"
  },
  "language_info": {
   "codemirror_mode": {
    "name": "ipython",
    "version": 3
   },
   "file_extension": ".py",
   "mimetype": "text/x-python",
   "name": "python",
   "nbconvert_exporter": "python",
   "pygments_lexer": "ipython3",
   "version": "3.7.6"
  }
 },
 "nbformat": 4,
 "nbformat_minor": 4
}
