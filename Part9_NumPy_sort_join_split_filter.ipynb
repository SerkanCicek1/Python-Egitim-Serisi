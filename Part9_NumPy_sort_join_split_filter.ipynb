{
 "cells": [
  {
   "cell_type": "code",
   "execution_count": 1,
   "metadata": {},
   "outputs": [
    {
     "name": "stdout",
     "output_type": "stream",
     "text": [
      "1\n",
      "2\n",
      "3\n",
      "4\n",
      "5\n"
     ]
    }
   ],
   "source": [
    "# 1-D dizi üzerinde iterasyon\n",
    "import numpy as np\n",
    "\n",
    "dizi = np.array([1, 2, 3, 4, 5])\n",
    "\n",
    "for eleman in dizi:\n",
    "  print(eleman)"
   ]
  },
  {
   "cell_type": "code",
   "execution_count": 2,
   "metadata": {},
   "outputs": [
    {
     "name": "stdout",
     "output_type": "stream",
     "text": [
      "[1 3 5]\n",
      "[ 7  9 11]\n"
     ]
    }
   ],
   "source": [
    "# 2-D dizi üzerinde iterasyon\n",
    "import numpy as np\n",
    "\n",
    "dizi = np.array([[1, 3, 5], [7, 9, 11]] )\n",
    "\n",
    "for eleman in dizi:\n",
    "  print(eleman)"
   ]
  },
  {
   "cell_type": "code",
   "execution_count": 3,
   "metadata": {},
   "outputs": [
    {
     "name": "stdout",
     "output_type": "stream",
     "text": [
      "1\n",
      "3\n",
      "5\n",
      "7\n",
      "9\n",
      "11\n"
     ]
    }
   ],
   "source": [
    "# 2-D dizi içindeki scaler değerleri döndürmek\n",
    "import numpy as np\n",
    "\n",
    "dizi = np.array([[1, 3, 5], [7, 9, 11]] )\n",
    "\n",
    "for eleman in dizi:      \n",
    "  for deger in eleman:\n",
    "    print(deger) "
   ]
  },
  {
   "cell_type": "code",
   "execution_count": 4,
   "metadata": {},
   "outputs": [
    {
     "name": "stdout",
     "output_type": "stream",
     "text": [
      "1\n",
      "2\n",
      "3\n",
      "4\n",
      "5\n",
      "6\n",
      "7\n",
      "8\n",
      "9\n",
      "10\n",
      "11\n",
      "12\n"
     ]
    }
   ],
   "source": [
    "# 3-D dizide scaler değerleri yazdırmak\n",
    "import numpy as np\n",
    "\n",
    "dizi = np.array([[[1, 2, 3], [4, 5, 6]], [[7, 8, 9], [10, 11, 12]]])\n",
    "\n",
    "for x in dizi:\n",
    "  for y in x:\n",
    "    for z in y:\n",
    "      print(z)"
   ]
  },
  {
   "cell_type": "code",
   "execution_count": 5,
   "metadata": {},
   "outputs": [
    {
     "name": "stdout",
     "output_type": "stream",
     "text": [
      "1\n",
      "2\n",
      "3\n",
      "4\n",
      "5\n",
      "6\n",
      "7\n",
      "8\n"
     ]
    }
   ],
   "source": [
    "# 3-D array de nditer() kullanımı\n",
    "import numpy as np\n",
    "\n",
    "dizi = np.array([[[1, 2], [3, 4]], [[5, 6], [7, 8]]])\n",
    "\n",
    "for deger in np.nditer(dizi):\n",
    "  print(deger)"
   ]
  },
  {
   "cell_type": "code",
   "execution_count": 8,
   "metadata": {},
   "outputs": [
    {
     "name": "stdout",
     "output_type": "stream",
     "text": [
      "1\n",
      "3\n",
      "5\n",
      "7\n"
     ]
    }
   ],
   "source": [
    "# 3-D array de nditer() kullanımı\n",
    "# 1 değer atlayarak\n",
    "import numpy as np\n",
    "\n",
    "dizi = np.array([[[1, 2], [3, 4]], [[5, 6], [7, 8]]])\n",
    "\n",
    "for deger in np.nditer(dizi[:, :, ::2]):\n",
    "  print(deger)"
   ]
  },
  {
   "cell_type": "code",
   "execution_count": 9,
   "metadata": {},
   "outputs": [
    {
     "name": "stdout",
     "output_type": "stream",
     "text": [
      "(0,) 1\n",
      "(1,) 2\n",
      "(2,) 3\n",
      "(0, 0) 4\n",
      "(0, 1) 5\n",
      "(1, 0) 6\n",
      "(1, 1) 7\n"
     ]
    }
   ],
   "source": [
    "# ndenumerate() kullanımı\n",
    "import numpy as np\n",
    "\n",
    "dizi1D = np.array([1, 2, 3]) # 1-D dizi\n",
    "dizi2D = np.array([[4, 5], [6, 7]]) # 2-D dizi\n",
    "\n",
    "for idx, x in np.ndenumerate(dizi1D):\n",
    "  print(idx, x)\n",
    "\n",
    "for idy, y in np.ndenumerate(dizi2D):\n",
    "  print(idy, y)"
   ]
  },
  {
   "cell_type": "code",
   "execution_count": 10,
   "metadata": {},
   "outputs": [
    {
     "name": "stdout",
     "output_type": "stream",
     "text": [
      "[1 2 3 4 5 6]\n"
     ]
    }
   ],
   "source": [
    "# join işlemi 1-D\n",
    "import numpy as np\n",
    "\n",
    "dizi1 = np.array([1, 2, 3]) # 1-D array\n",
    "\n",
    "dizi2 = np.array([4, 5, 6]) # 1-D array\n",
    "\n",
    "dizi = np.concatenate((dizi1, dizi2)) # 1-D array\n",
    "\n",
    "print(dizi)"
   ]
  },
  {
   "cell_type": "code",
   "execution_count": 11,
   "metadata": {},
   "outputs": [
    {
     "name": "stdout",
     "output_type": "stream",
     "text": [
      "[[1 2]\n",
      " [3 4]\n",
      " [5 6]\n",
      " [7 8]]\n"
     ]
    }
   ],
   "source": [
    "# join işlemi 2-D\n",
    "import numpy as np\n",
    "\n",
    "dizi1 = np.array([[1, 2], [3, 4]]) #2-D dizi\n",
    "\n",
    "dizi2 = np.array([[5, 6], [7, 8]]) #2-D dizi\n",
    "\n",
    "dizi = np.concatenate((dizi1, dizi2)) #2-D dizi\n",
    "\n",
    "print(dizi)"
   ]
  },
  {
   "cell_type": "code",
   "execution_count": 12,
   "metadata": {},
   "outputs": [
    {
     "name": "stdout",
     "output_type": "stream",
     "text": [
      "[[1 2 5 6]\n",
      " [3 4 7 8]]\n"
     ]
    }
   ],
   "source": [
    "# join işlemi 2-D axis=1\n",
    "import numpy as np\n",
    "\n",
    "dizi1 = np.array([[1, 2], [3, 4]]) #2-D dizi\n",
    "\n",
    "dizi2 = np.array([[5, 6], [7, 8]]) #2-D dizi\n",
    "\n",
    "dizi = np.concatenate((dizi1, dizi2), axis=1) #2-D dizi\n",
    "\n",
    "print(dizi)"
   ]
  },
  {
   "cell_type": "code",
   "execution_count": 13,
   "metadata": {},
   "outputs": [
    {
     "name": "stdout",
     "output_type": "stream",
     "text": [
      "[[1 4]\n",
      " [2 5]\n",
      " [3 6]]\n",
      "[[1 2 3]\n",
      " [4 5 6]]\n"
     ]
    }
   ],
   "source": [
    "#stack 1-D array'lerde kullanımı\n",
    "import numpy as np\n",
    "\n",
    "dizi1 = np.array([1, 2, 3])\n",
    "dizi2 = np.array([4, 5, 6])\n",
    "\n",
    "dizi_3 = np.stack((dizi1, dizi2), axis=1)\n",
    "dizi_4 = np.stack((dizi1, dizi2), axis=0)\n",
    "\n",
    "print(dizi_3) #axis=1\n",
    "print(dizi_4) #axis=0"
   ]
  },
  {
   "cell_type": "code",
   "execution_count": 14,
   "metadata": {},
   "outputs": [
    {
     "name": "stdout",
     "output_type": "stream",
     "text": [
      "[1 2 3 4 5 6]\n",
      "[[1 2 3]\n",
      " [4 5 6]]\n",
      "[[[1 4]\n",
      "  [2 5]\n",
      "  [3 6]]]\n"
     ]
    }
   ],
   "source": [
    "#hstack, vstack, dstack ve 1-D array'ler\n",
    "import numpy as np\n",
    "\n",
    "dizi1 = np.array([1, 2, 3])\n",
    "dizi2 = np.array([4, 5, 6])\n",
    "\n",
    "dizi_3 = np.hstack((dizi1, dizi2))\n",
    "dizi_4 = np.vstack((dizi1, dizi2))\n",
    "dizi_5 = np.dstack((dizi1, dizi2))\n",
    "\n",
    "print(dizi_3) # satırlar boyunca\n",
    "print(dizi_4) # sütunlar boyunca\n",
    "print(dizi_5) # derinlik/yükseklik boyunca"
   ]
  },
  {
   "cell_type": "code",
   "execution_count": 1,
   "metadata": {},
   "outputs": [
    {
     "name": "stdout",
     "output_type": "stream",
     "text": [
      "[array([1, 2, 3]), array([4, 5, 6]), array([7, 8, 9]), array([10, 11, 12])]\n"
     ]
    }
   ],
   "source": [
    "# splitting arrays 1-D\n",
    "import numpy as np\n",
    "\n",
    "dizi = np.array([1, 2, 3, 4, 5, 6, 7, 8, 9, 10, 11, 12])\n",
    "\n",
    "yeni_dizi = np.array_split(dizi, 4) # 4 parçaya bölelim\n",
    "\n",
    "print(yeni_dizi)"
   ]
  },
  {
   "cell_type": "code",
   "execution_count": 2,
   "metadata": {},
   "outputs": [
    {
     "name": "stdout",
     "output_type": "stream",
     "text": [
      "[array([1, 2, 3]), array([4, 5, 6]), array([7, 8]), array([ 9, 10]), array([11, 12])]\n"
     ]
    }
   ],
   "source": [
    "# splitting arrays 1-D\n",
    "import numpy as np\n",
    "\n",
    "dizi = np.array([1, 2, 3, 4, 5, 6, 7, 8, 9, 10, 11, 12])\n",
    "\n",
    "yeni_dizi = np.array_split(dizi, 5) # 5 parçaya bölelim\n",
    "\n",
    "print(yeni_dizi)"
   ]
  },
  {
   "cell_type": "code",
   "execution_count": 3,
   "metadata": {},
   "outputs": [
    {
     "ename": "ValueError",
     "evalue": "array split does not result in an equal division",
     "output_type": "error",
     "traceback": [
      "\u001b[1;31m---------------------------------------------------------------------------\u001b[0m",
      "\u001b[1;31mTypeError\u001b[0m                                 Traceback (most recent call last)",
      "\u001b[1;32m~\\anaconda3\\lib\\site-packages\\numpy\\lib\\shape_base.py\u001b[0m in \u001b[0;36msplit\u001b[1;34m(ary, indices_or_sections, axis)\u001b[0m\n\u001b[0;32m    864\u001b[0m     \u001b[1;32mtry\u001b[0m\u001b[1;33m:\u001b[0m\u001b[1;33m\u001b[0m\u001b[1;33m\u001b[0m\u001b[0m\n\u001b[1;32m--> 865\u001b[1;33m         \u001b[0mlen\u001b[0m\u001b[1;33m(\u001b[0m\u001b[0mindices_or_sections\u001b[0m\u001b[1;33m)\u001b[0m\u001b[1;33m\u001b[0m\u001b[1;33m\u001b[0m\u001b[0m\n\u001b[0m\u001b[0;32m    866\u001b[0m     \u001b[1;32mexcept\u001b[0m \u001b[0mTypeError\u001b[0m\u001b[1;33m:\u001b[0m\u001b[1;33m\u001b[0m\u001b[1;33m\u001b[0m\u001b[0m\n",
      "\u001b[1;31mTypeError\u001b[0m: object of type 'int' has no len()",
      "\nDuring handling of the above exception, another exception occurred:\n",
      "\u001b[1;31mValueError\u001b[0m                                Traceback (most recent call last)",
      "\u001b[1;32m<ipython-input-3-1a26c8375f77>\u001b[0m in \u001b[0;36m<module>\u001b[1;34m\u001b[0m\n\u001b[0;32m      3\u001b[0m \u001b[0mdizi\u001b[0m \u001b[1;33m=\u001b[0m \u001b[0mnp\u001b[0m\u001b[1;33m.\u001b[0m\u001b[0marray\u001b[0m\u001b[1;33m(\u001b[0m\u001b[1;33m[\u001b[0m\u001b[1;36m1\u001b[0m\u001b[1;33m,\u001b[0m \u001b[1;36m2\u001b[0m\u001b[1;33m,\u001b[0m \u001b[1;36m3\u001b[0m\u001b[1;33m,\u001b[0m \u001b[1;36m4\u001b[0m\u001b[1;33m,\u001b[0m \u001b[1;36m5\u001b[0m\u001b[1;33m,\u001b[0m \u001b[1;36m6\u001b[0m\u001b[1;33m,\u001b[0m \u001b[1;36m7\u001b[0m\u001b[1;33m,\u001b[0m \u001b[1;36m8\u001b[0m\u001b[1;33m,\u001b[0m \u001b[1;36m9\u001b[0m\u001b[1;33m,\u001b[0m \u001b[1;36m10\u001b[0m\u001b[1;33m,\u001b[0m \u001b[1;36m11\u001b[0m\u001b[1;33m,\u001b[0m \u001b[1;36m12\u001b[0m\u001b[1;33m]\u001b[0m\u001b[1;33m)\u001b[0m\u001b[1;33m\u001b[0m\u001b[1;33m\u001b[0m\u001b[0m\n\u001b[0;32m      4\u001b[0m \u001b[1;33m\u001b[0m\u001b[0m\n\u001b[1;32m----> 5\u001b[1;33m \u001b[0myeni_dizi\u001b[0m \u001b[1;33m=\u001b[0m \u001b[0mnp\u001b[0m\u001b[1;33m.\u001b[0m\u001b[0msplit\u001b[0m\u001b[1;33m(\u001b[0m\u001b[0mdizi\u001b[0m\u001b[1;33m,\u001b[0m \u001b[1;36m5\u001b[0m\u001b[1;33m)\u001b[0m \u001b[1;31m# 5 parçaya bölelim\u001b[0m\u001b[1;33m\u001b[0m\u001b[1;33m\u001b[0m\u001b[0m\n\u001b[0m\u001b[0;32m      6\u001b[0m \u001b[1;33m\u001b[0m\u001b[0m\n\u001b[0;32m      7\u001b[0m \u001b[0mprint\u001b[0m\u001b[1;33m(\u001b[0m\u001b[0myeni_dizi\u001b[0m\u001b[1;33m)\u001b[0m\u001b[1;33m\u001b[0m\u001b[1;33m\u001b[0m\u001b[0m\n",
      "\u001b[1;32m<__array_function__ internals>\u001b[0m in \u001b[0;36msplit\u001b[1;34m(*args, **kwargs)\u001b[0m\n",
      "\u001b[1;32m~\\anaconda3\\lib\\site-packages\\numpy\\lib\\shape_base.py\u001b[0m in \u001b[0;36msplit\u001b[1;34m(ary, indices_or_sections, axis)\u001b[0m\n\u001b[0;32m    869\u001b[0m         \u001b[1;32mif\u001b[0m \u001b[0mN\u001b[0m \u001b[1;33m%\u001b[0m \u001b[0msections\u001b[0m\u001b[1;33m:\u001b[0m\u001b[1;33m\u001b[0m\u001b[1;33m\u001b[0m\u001b[0m\n\u001b[0;32m    870\u001b[0m             raise ValueError(\n\u001b[1;32m--> 871\u001b[1;33m                 'array split does not result in an equal division')\n\u001b[0m\u001b[0;32m    872\u001b[0m     \u001b[1;32mreturn\u001b[0m \u001b[0marray_split\u001b[0m\u001b[1;33m(\u001b[0m\u001b[0mary\u001b[0m\u001b[1;33m,\u001b[0m \u001b[0mindices_or_sections\u001b[0m\u001b[1;33m,\u001b[0m \u001b[0maxis\u001b[0m\u001b[1;33m)\u001b[0m\u001b[1;33m\u001b[0m\u001b[1;33m\u001b[0m\u001b[0m\n\u001b[0;32m    873\u001b[0m \u001b[1;33m\u001b[0m\u001b[0m\n",
      "\u001b[1;31mValueError\u001b[0m: array split does not result in an equal division"
     ]
    }
   ],
   "source": [
    "import numpy as np\n",
    "\n",
    "dizi = np.array([1, 2, 3, 4, 5, 6, 7, 8, 9, 10, 11, 12])\n",
    "\n",
    "yeni_dizi = np.split(dizi, 5) # 5 parçaya bölelim\n",
    " \n",
    "print(yeni_dizi) # 12/5 tam bölünmediğinden split() hata verir"
   ]
  },
  {
   "cell_type": "code",
   "execution_count": 4,
   "metadata": {},
   "outputs": [
    {
     "name": "stdout",
     "output_type": "stream",
     "text": [
      "[1 2 3]\n",
      "[4 5 6]\n",
      "[7 8 9]\n",
      "[10 11 12]\n"
     ]
    }
   ],
   "source": [
    "# splitting arrays 1-D\n",
    "# dizi elemanlarını yazdırma\n",
    "import numpy as np\n",
    "\n",
    "dizi = np.array([1, 2, 3, 4, 5, 6, 7, 8, 9, 10, 11, 12])\n",
    "\n",
    "yeni_dizi = np.array_split(dizi, 4) # 4 parçaya bölelim\n",
    "\n",
    "print(yeni_dizi[0])\n",
    "print(yeni_dizi[1])\n",
    "print(yeni_dizi[2])\n",
    "print(yeni_dizi[3])"
   ]
  },
  {
   "cell_type": "code",
   "execution_count": 5,
   "metadata": {},
   "outputs": [
    {
     "name": "stdout",
     "output_type": "stream",
     "text": [
      "[[1 2]\n",
      " [3 4]]\n",
      "[[5 6]\n",
      " [7 8]]\n",
      "[[ 9 10]]\n",
      "[[11 12]]\n"
     ]
    }
   ],
   "source": [
    "# splitting arrays 2-D\n",
    "# dizi elemanlarını yazdırma\n",
    "import numpy as np\n",
    "\n",
    "dizi = np.array([[1, 2], [3, 4], [5, 6], [7, 8], [9, 10], [11, 12]])\n",
    "\n",
    "yeni_dizi = np.array_split(dizi, 4) # 4 parçaya bölelim\n",
    "\n",
    "print(yeni_dizi[0])\n",
    "print(yeni_dizi[1])\n",
    "print(yeni_dizi[2])\n",
    "print(yeni_dizi[3])"
   ]
  },
  {
   "cell_type": "code",
   "execution_count": 6,
   "metadata": {},
   "outputs": [
    {
     "name": "stdout",
     "output_type": "stream",
     "text": [
      "[[1 2]\n",
      " [3 4]]\n",
      "[[5 6]\n",
      " [7 8]]\n",
      "[[ 9 10]\n",
      " [11 12]]\n"
     ]
    }
   ],
   "source": [
    "# splitting arrays 2-D\n",
    "# dizi elemanlarını yazdırma\n",
    "import numpy as np\n",
    "\n",
    "dizi = np.array([[1, 2], [3, 4], [5, 6], [7, 8], [9, 10], [11, 12]])\n",
    "\n",
    "yeni_dizi = np.array_split(dizi, 3) # 3 parçaya bölelim\n",
    "\n",
    "print(yeni_dizi[0])\n",
    "print(yeni_dizi[1])\n",
    "print(yeni_dizi[2])"
   ]
  },
  {
   "cell_type": "code",
   "execution_count": 8,
   "metadata": {},
   "outputs": [
    {
     "name": "stdout",
     "output_type": "stream",
     "text": [
      "[[1 2 3]]\n",
      "[[4 5 6]]\n",
      "[[7 8 9]]\n",
      "[[10 11 12]]\n"
     ]
    }
   ],
   "source": [
    "# splitting arrays 2-D\n",
    "import numpy as np\n",
    "\n",
    "dizi = np.array([[1, 2, 3], [4, 5, 6], [7, 8, 9], [10, 11, 12]])\n",
    "\n",
    "yeni_dizi = np.array_split(dizi, 4) # 4 parçaya bölelim\n",
    "\n",
    "print(yeni_dizi[0])\n",
    "print(yeni_dizi[1])\n",
    "print(yeni_dizi[2])\n",
    "print(yeni_dizi[3])"
   ]
  },
  {
   "cell_type": "code",
   "execution_count": 10,
   "metadata": {},
   "outputs": [
    {
     "name": "stdout",
     "output_type": "stream",
     "text": [
      "[[1 2 3]\n",
      " [4 5 6]]\n",
      "[[7 8 9]]\n",
      "[[10 11 12]]\n"
     ]
    }
   ],
   "source": [
    "# splitting arrays 2-D\n",
    "import numpy as np\n",
    "\n",
    "dizi = np.array([[1, 2, 3], [4, 5, 6], [7, 8, 9], [10, 11, 12]])\n",
    "\n",
    "yeni_dizi = np.array_split(dizi, 3) # 3 parçaya bölelim\n",
    "\n",
    "print(yeni_dizi[0])\n",
    "print(yeni_dizi[1])\n",
    "print(yeni_dizi[2])"
   ]
  },
  {
   "cell_type": "code",
   "execution_count": 11,
   "metadata": {},
   "outputs": [
    {
     "name": "stdout",
     "output_type": "stream",
     "text": [
      "[[ 1]\n",
      " [ 4]\n",
      " [ 7]\n",
      " [10]]\n",
      "[[ 2]\n",
      " [ 5]\n",
      " [ 8]\n",
      " [11]]\n",
      "[[ 3]\n",
      " [ 6]\n",
      " [ 9]\n",
      " [12]]\n"
     ]
    }
   ],
   "source": [
    "# splitting arrays 2-D\n",
    "import numpy as np\n",
    "\n",
    "dizi = np.array([[1, 2, 3], [4, 5, 6], [7, 8, 9], [10, 11, 12]])\n",
    "\n",
    "yeni_dizi = np.array_split(dizi, 3, axis=1) # satır boyunca 3 parçaya bölelim\n",
    "\n",
    "print(yeni_dizi[0])\n",
    "print(yeni_dizi[1])\n",
    "print(yeni_dizi[2])"
   ]
  },
  {
   "cell_type": "code",
   "execution_count": 13,
   "metadata": {},
   "outputs": [
    {
     "name": "stdout",
     "output_type": "stream",
     "text": [
      "[[ 1]\n",
      " [ 4]\n",
      " [ 7]\n",
      " [10]]\n",
      "[[ 2]\n",
      " [ 5]\n",
      " [ 8]\n",
      " [11]]\n",
      "[[ 3]\n",
      " [ 6]\n",
      " [ 9]\n",
      " [12]]\n"
     ]
    }
   ],
   "source": [
    "# splitting arrays 2-D\n",
    "import numpy as np\n",
    "\n",
    "dizi = np.array([[1, 2, 3], [4, 5, 6], [7, 8, 9], [10, 11, 12]])\n",
    "\n",
    "yeni_dizi = np.hsplit(dizi, 3) # satır boyunca 3 parça, hsplit()\n",
    "\n",
    "print(yeni_dizi[0])\n",
    "print(yeni_dizi[1])\n",
    "print(yeni_dizi[2])"
   ]
  },
  {
   "cell_type": "code",
   "execution_count": 15,
   "metadata": {},
   "outputs": [
    {
     "name": "stdout",
     "output_type": "stream",
     "text": [
      "[[1 2 3]\n",
      " [4 5 6]]\n",
      "[[ 7  8  9]\n",
      " [10 11 12]]\n"
     ]
    }
   ],
   "source": [
    "# splitting arrays 2-D\n",
    "import numpy as np\n",
    "\n",
    "dizi = np.array([[1, 2, 3], [4, 5, 6], [7, 8, 9], [10, 11, 12]])\n",
    "\n",
    "yeni_dizi = np.vsplit(dizi, 2) # sütun boyunca 2 parça, vsplit()\n",
    "\n",
    "print(yeni_dizi[0])\n",
    "print(yeni_dizi[1])"
   ]
  },
  {
   "cell_type": "code",
   "execution_count": 20,
   "metadata": {},
   "outputs": [
    {
     "name": "stdout",
     "output_type": "stream",
     "text": [
      "(array([2, 6, 8], dtype=int64),)\n"
     ]
    }
   ],
   "source": [
    "# dizilerde search -- arama\n",
    "import numpy as np\n",
    "\n",
    "dizi = np.array([1, 2, 10, 4, 15, 6, 10, 8, 10, 1, 15])\n",
    "\n",
    "nerede = np.where(dizi == 10) # 10 hangi indekslerde\n",
    "\n",
    "print(nerede)"
   ]
  },
  {
   "cell_type": "code",
   "execution_count": 21,
   "metadata": {},
   "outputs": [
    {
     "name": "stdout",
     "output_type": "stream",
     "text": [
      "(array([1, 2, 3, 5, 6, 7, 8], dtype=int64),)\n"
     ]
    }
   ],
   "source": [
    "# dizilerde search -- arama\n",
    "import numpy as np\n",
    "\n",
    "dizi = np.array([1, 2, 10, 4, 15, 6, 10, 8, 10, 1, 15])\n",
    "\n",
    "nerede = np.where(dizi%2 == 0) # çift sayılar hangi indekslerde\n",
    "\n",
    "print(nerede)"
   ]
  },
  {
   "cell_type": "code",
   "execution_count": 23,
   "metadata": {},
   "outputs": [
    {
     "name": "stdout",
     "output_type": "stream",
     "text": [
      "5\n"
     ]
    }
   ],
   "source": [
    "# dizilerde search -- arama\n",
    "import numpy as np\n",
    "\n",
    "dizi = np.array([1, 2, 3, 4, 5, 7, 8, 9, 10])\n",
    "\n",
    "nereye = np.searchsorted(dizi, 6) # 6 nereye eklenmeli\n",
    "\n",
    "print(nereye)"
   ]
  },
  {
   "cell_type": "code",
   "execution_count": 24,
   "metadata": {},
   "outputs": [
    {
     "name": "stdout",
     "output_type": "stream",
     "text": [
      "5\n"
     ]
    }
   ],
   "source": [
    "# dizilerde search -- arama\n",
    "import numpy as np\n",
    "\n",
    "dizi = np.array([1, 2, 3, 4, 5, 6, 7, 8, 9, 10]) # 6 var\n",
    "\n",
    "nereye = np.searchsorted(dizi, 6) # 6 nereye eklenmeli\n",
    "\n",
    "print(nereye)"
   ]
  },
  {
   "cell_type": "code",
   "execution_count": 28,
   "metadata": {},
   "outputs": [
    {
     "name": "stdout",
     "output_type": "stream",
     "text": [
      "[2 2 3 4 5]\n"
     ]
    }
   ],
   "source": [
    "# dizilerde search -- arama\n",
    "import numpy as np\n",
    "\n",
    "dizi = np.array([1, 2, 5, 7, 9]) \n",
    "\n",
    "nereye = np.searchsorted(dizi, [3, 4, 6, 8, 10])\n",
    "\n",
    "print(nereye)"
   ]
  },
  {
   "cell_type": "code",
   "execution_count": 29,
   "metadata": {},
   "outputs": [
    {
     "name": "stdout",
     "output_type": "stream",
     "text": [
      "[ 0  1  3  4  6 10 12 15]\n"
     ]
    }
   ],
   "source": [
    "# dizilerde sorting -- sıralama\n",
    "import numpy as np\n",
    "\n",
    "dizi = np.array([10, 15, 6, 4, 3, 12, 0, 1])\n",
    "\n",
    "print(np.sort(dizi))"
   ]
  },
  {
   "cell_type": "code",
   "execution_count": 30,
   "metadata": {},
   "outputs": [
    {
     "name": "stdout",
     "output_type": "stream",
     "text": [
      "[[ 4  6 10 15]\n",
      " [ 0  1  3 12]]\n"
     ]
    }
   ],
   "source": [
    "# dizilerde sorting -- sıralama\n",
    "import numpy as np\n",
    "\n",
    "dizi = np.array([[10, 15, 6, 4], [3, 12, 0, 1]]) # 2-D\n",
    "\n",
    "print(np.sort(dizi))"
   ]
  },
  {
   "cell_type": "code",
   "execution_count": 32,
   "metadata": {},
   "outputs": [
    {
     "name": "stdout",
     "output_type": "stream",
     "text": [
      "[10 15 12]\n"
     ]
    }
   ],
   "source": [
    "# dizilerde filtering -- filtreleme\n",
    "import numpy as np\n",
    "\n",
    "dizi = np.array([10, 15, 6, 4, 3, 12, 0, 1]) #10,15,12 yi alalım\n",
    "\n",
    "i=[True, True, False, False, False, True, False, False]\n",
    "\n",
    "print(dizi[i])"
   ]
  },
  {
   "cell_type": "code",
   "execution_count": 34,
   "metadata": {},
   "outputs": [
    {
     "name": "stdout",
     "output_type": "stream",
     "text": [
      "[ 6 10 12 15]\n"
     ]
    }
   ],
   "source": [
    "# dizilerde filtering -- filtreleme\n",
    "import numpy as np\n",
    "\n",
    "dizi = np.array([10, 15, 6, 4, 3, 12, 0, 1])\n",
    "\n",
    "# Boş bir dizi oluşturalım\n",
    "i = []\n",
    "\n",
    "# orijinal dizideki her bir elemana bakalım\n",
    "for deger in dizi:\n",
    "  if deger >= 6: #deger 6 ve 6'dan büyükse True döndürür\n",
    "    i.append(True) #filtreye ekleyelim\n",
    "  else:\n",
    "    i.append(False) #değilse False döndürür ve eklenmez\n",
    "\n",
    "yeni_dizi = dizi[i]\n",
    "\n",
    "print(np.sort(yeni_dizi))"
   ]
  },
  {
   "cell_type": "code",
   "execution_count": 35,
   "metadata": {},
   "outputs": [
    {
     "name": "stdout",
     "output_type": "stream",
     "text": [
      "[15  3  1]\n"
     ]
    }
   ],
   "source": [
    "#  dizilerde filtering -- filtreleme\n",
    "import numpy as np\n",
    "\n",
    "dizi = np.array([10, 15, 6, 4, 3, 12, 0, 1])\n",
    "\n",
    "# koşulu bu şekilde de belirtebiliriz \n",
    "i = (dizi%2 == 1) # tek sayıları alalım\n",
    "\n",
    "yeni_dizi = dizi[i]\n",
    "\n",
    "print(yeni_dizi)"
   ]
  },
  {
   "cell_type": "code",
   "execution_count": null,
   "metadata": {},
   "outputs": [],
   "source": []
  }
 ],
 "metadata": {
  "kernelspec": {
   "display_name": "Python 3",
   "language": "python",
   "name": "python3"
  },
  "language_info": {
   "codemirror_mode": {
    "name": "ipython",
    "version": 3
   },
   "file_extension": ".py",
   "mimetype": "text/x-python",
   "name": "python",
   "nbconvert_exporter": "python",
   "pygments_lexer": "ipython3",
   "version": "3.7.6"
  }
 },
 "nbformat": 4,
 "nbformat_minor": 4
}
