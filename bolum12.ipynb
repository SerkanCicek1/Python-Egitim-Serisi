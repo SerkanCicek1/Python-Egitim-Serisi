{
 "cells": [
  {
   "cell_type": "code",
   "execution_count": 1,
   "metadata": {},
   "outputs": [
    {
     "name": "stdout",
     "output_type": "stream",
     "text": [
      "89.76923076923077\n"
     ]
    }
   ],
   "source": [
    "# mean\n",
    "import numpy\n",
    "\n",
    "hiz = [99,86,87,88,111,86,103,87,94,78,77,85,86]\n",
    "\n",
    "ortalama_hiz = numpy.mean(hiz)\n",
    "\n",
    "print(ortalama_hiz)"
   ]
  },
  {
   "cell_type": "code",
   "execution_count": 2,
   "metadata": {},
   "outputs": [
    {
     "name": "stdout",
     "output_type": "stream",
     "text": [
      "87.0\n"
     ]
    }
   ],
   "source": [
    "# median\n",
    "import numpy\n",
    "\n",
    "hiz = [99,86,87,88,111,86,103,87,94,78,77,85,86]\n",
    "\n",
    "orta_hiz = numpy.median(hiz)\n",
    "\n",
    "print(orta_hiz)"
   ]
  },
  {
   "cell_type": "code",
   "execution_count": 4,
   "metadata": {},
   "outputs": [
    {
     "name": "stdout",
     "output_type": "stream",
     "text": [
      "86.5\n"
     ]
    }
   ],
   "source": [
    "# ortada iki değer varsa - median\n",
    "\n",
    "import numpy\n",
    "\n",
    "hiz= [99,86,87,88,86,103,87,94,78,77,85,86]\n",
    "\n",
    "orta_hiz = numpy.median(hiz)\n",
    "\n",
    "print(orta_hiz)"
   ]
  },
  {
   "cell_type": "code",
   "execution_count": 5,
   "metadata": {},
   "outputs": [
    {
     "name": "stdout",
     "output_type": "stream",
     "text": [
      "ModeResult(mode=array([86]), count=array([3]))\n"
     ]
    }
   ],
   "source": [
    "# mode\n",
    "from scipy import stats\n",
    "\n",
    "hiz = [99,86,87,88,111,86,103,87,94,78,77,85,86]\n",
    "\n",
    "yaygin_hiz = stats.mode(hiz)\n",
    "\n",
    "print(yaygin_hiz)"
   ]
  },
  {
   "cell_type": "code",
   "execution_count": 6,
   "metadata": {},
   "outputs": [
    {
     "name": "stdout",
     "output_type": "stream",
     "text": [
      "0.9035079029052513\n"
     ]
    }
   ],
   "source": [
    "# std\n",
    "\n",
    "import numpy\n",
    "\n",
    "hiz = [86,87,88,86,87,85,86]\n",
    "\n",
    "std_hiz = numpy.std(hiz)\n",
    "\n",
    "print(std_hiz)"
   ]
  },
  {
   "cell_type": "code",
   "execution_count": 7,
   "metadata": {},
   "outputs": [
    {
     "name": "stdout",
     "output_type": "stream",
     "text": [
      "37.84501153334721\n"
     ]
    }
   ],
   "source": [
    "# std - geniş aralık\n",
    "\n",
    "import numpy\n",
    "\n",
    "hiz = [32,111,138,28,59,77,97]\n",
    "\n",
    "std_hiz = numpy.std(hiz)\n",
    "\n",
    "print(std_hiz)"
   ]
  },
  {
   "cell_type": "code",
   "execution_count": 8,
   "metadata": {},
   "outputs": [
    {
     "name": "stdout",
     "output_type": "stream",
     "text": [
      "1432.2448979591834\n"
     ]
    }
   ],
   "source": [
    "# varyans\n",
    "import numpy\n",
    "\n",
    "hiz = [32,111,138,28,59,77,97]\n",
    "\n",
    "var_hiz= numpy.var(hiz)\n",
    "\n",
    "print(var_hiz)"
   ]
  },
  {
   "cell_type": "code",
   "execution_count": 9,
   "metadata": {},
   "outputs": [
    {
     "name": "stdout",
     "output_type": "stream",
     "text": [
      "43.0\n",
      "61.0\n"
     ]
    }
   ],
   "source": [
    "# yüzdelik dilim\n",
    "import numpy\n",
    "\n",
    "yaslar = [5,31,43,48,50,41,7,11,15,39,80,82,32,2,8,6,25,36,27,61,31]\n",
    "\n",
    "# Yüzde 75'lik yüzdelik dilim\n",
    "y_1 = numpy.percentile(yaslar, 75)\n",
    "print(y_1)\n",
    "\n",
    "# İnsanların %90'ı hangi yaştan daha genç?\n",
    "y_2 = numpy.percentile(yaslar, 90)\n",
    "print(y_2)\n"
   ]
  },
  {
   "cell_type": "code",
   "execution_count": null,
   "metadata": {},
   "outputs": [],
   "source": []
  }
 ],
 "metadata": {
  "kernelspec": {
   "display_name": "Python 3",
   "language": "python",
   "name": "python3"
  },
  "language_info": {
   "codemirror_mode": {
    "name": "ipython",
    "version": 3
   },
   "file_extension": ".py",
   "mimetype": "text/x-python",
   "name": "python",
   "nbconvert_exporter": "python",
   "pygments_lexer": "ipython3",
   "version": "3.7.6"
  }
 },
 "nbformat": 4,
 "nbformat_minor": 4
}
